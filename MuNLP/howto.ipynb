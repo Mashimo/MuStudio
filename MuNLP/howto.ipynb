{
 "cells": [
  {
   "cell_type": "markdown",
   "id": "57b363a8",
   "metadata": {},
   "source": [
    "# How to use the MuNLP library\n",
    "\n",
    "This is a basic NLP module for text analysis and generation.  \n",
    "Documentation purpose.  \n",
    "This is a work in progress.\n",
    "\n"
   ]
  },
  {
   "cell_type": "markdown",
   "id": "33718a3c",
   "metadata": {},
   "source": [
    "automatically reload the modules so changes done in the MuNLP library are usable immediately (not cached):"
   ]
  },
  {
   "cell_type": "code",
   "execution_count": 1,
   "id": "c441b26a",
   "metadata": {},
   "outputs": [],
   "source": [
    "%load_ext autoreload\n",
    "%autoreload 2\n"
   ]
  },
  {
   "cell_type": "markdown",
   "id": "21c4b7b6",
   "metadata": {},
   "source": [
    "First of all, import the library. Add it to sys path if not in the same directory"
   ]
  },
  {
   "cell_type": "code",
   "execution_count": 2,
   "id": "4c4bbfcd",
   "metadata": {},
   "outputs": [],
   "source": [
    "from MuNLP import MuNLP\n"
   ]
  },
  {
   "cell_type": "markdown",
   "id": "2755e644",
   "metadata": {},
   "source": [
    "# Load content from text string"
   ]
  },
  {
   "cell_type": "code",
   "execution_count": 3,
   "id": "c5761e16",
   "metadata": {},
   "outputs": [],
   "source": [
    "sample = \"\"\"Processing raw text intelligently is difficult: most words are rare, \n",
    "and it’s common for words that look completely different to mean almost the same thing. \n",
    "The same words in a different order can mean something completely different. \n",
    "Even splitting text into useful word-like units can be difficult in many languages. \n",
    "While it’s possible to solve some problems starting from only the raw characters, \n",
    "it’s usually better to use linguistic knowledge to add useful information.\"\"\""
   ]
  },
  {
   "cell_type": "code",
   "execution_count": 4,
   "id": "e61f22a9",
   "metadata": {},
   "outputs": [
    {
     "data": {
      "text/plain": [
       "479"
      ]
     },
     "execution_count": 4,
     "metadata": {},
     "output_type": "execute_result"
    }
   ],
   "source": [
    "len(sample)  # include newlines"
   ]
  },
  {
   "cell_type": "markdown",
   "id": "75d8da6b",
   "metadata": {},
   "source": [
    "## Instantiate a MuNLP object\n",
    "Just need to pass the text to the class MuNLP:"
   ]
  },
  {
   "cell_type": "code",
   "execution_count": 5,
   "id": "fd60af0b",
   "metadata": {},
   "outputs": [],
   "source": [
    "snippet = MuNLP(sample)\n"
   ]
  },
  {
   "cell_type": "code",
   "execution_count": 6,
   "id": "286198fe",
   "metadata": {},
   "outputs": [
    {
     "name": "stdout",
     "output_type": "stream",
     "text": [
      "Total words:  74\n",
      "Unique words:  54\n",
      "Approximate total number of sentences:  4\n",
      "Total chars:  479\n"
     ]
    },
    {
     "data": {
      "text/plain": [
       "(74, 54, 4, 479)"
      ]
     },
     "execution_count": 6,
     "metadata": {},
     "output_type": "execute_result"
    }
   ],
   "source": [
    "snippet.getStats(verbose=1)  # no newlines: less total chars"
   ]
  },
  {
   "cell_type": "code",
   "execution_count": 7,
   "id": "cded37bb",
   "metadata": {},
   "outputs": [
    {
     "data": {
      "text/plain": [
       "74"
      ]
     },
     "execution_count": 7,
     "metadata": {},
     "output_type": "execute_result"
    }
   ],
   "source": [
    "snippet.getNumWords()"
   ]
  },
  {
   "cell_type": "code",
   "execution_count": 8,
   "id": "930371bc",
   "metadata": {},
   "outputs": [
    {
     "data": {
      "text/plain": [
       "479"
      ]
     },
     "execution_count": 8,
     "metadata": {},
     "output_type": "execute_result"
    }
   ],
   "source": [
    "snippet.getLength()"
   ]
  },
  {
   "cell_type": "markdown",
   "id": "426f3e2d",
   "metadata": {},
   "source": [
    "Words are stored in 'tokens':"
   ]
  },
  {
   "cell_type": "code",
   "execution_count": 9,
   "id": "0e36e760",
   "metadata": {},
   "outputs": [
    {
     "data": {
      "text/plain": [
       "48"
      ]
     },
     "execution_count": 9,
     "metadata": {},
     "output_type": "execute_result"
    }
   ],
   "source": [
    "len(snippet.tokens)"
   ]
  },
  {
   "cell_type": "code",
   "execution_count": 10,
   "id": "64675fbe",
   "metadata": {
    "scrolled": true
   },
   "outputs": [
    {
     "data": {
      "text/plain": [
       "[('words', 3),\n",
       " ('it’s', 3),\n",
       " ('different', 3),\n",
       " ('raw', 2),\n",
       " ('text', 2),\n",
       " ('difficult', 2),\n",
       " ('completely', 2)]"
      ]
     },
     "execution_count": 10,
     "metadata": {},
     "output_type": "execute_result"
    }
   ],
   "source": [
    "snippet.getMostCommonWords(7)  # top 7 used words"
   ]
  },
  {
   "cell_type": "code",
   "execution_count": 34,
   "id": "8cf87ea5",
   "metadata": {},
   "outputs": [
    {
     "data": {
      "text/plain": [
       "4"
      ]
     },
     "execution_count": 34,
     "metadata": {},
     "output_type": "execute_result"
    }
   ],
   "source": [
    "snippet.getNumSentences()"
   ]
  },
  {
   "cell_type": "code",
   "execution_count": 35,
   "id": "c5c39749",
   "metadata": {},
   "outputs": [
    {
     "data": {
      "text/plain": [
       "['Processing raw text intelligently is difficult: most words are rare, \\nand it’s common for words that look completely different to mean almost the same thing.',\n",
       " 'The same words in a different order can mean something completely different.',\n",
       " 'Even splitting text into useful word-like units can be difficult in many languages.',\n",
       " 'While it’s possible to solve some problems starting from only the raw characters, \\nit’s usually better to use linguistic knowledge to add useful information.']"
      ]
     },
     "execution_count": 35,
     "metadata": {},
     "output_type": "execute_result"
    }
   ],
   "source": [
    "snippet.sentences"
   ]
  },
  {
   "cell_type": "markdown",
   "id": "73b7d9e0",
   "metadata": {},
   "source": [
    "# Use a text file"
   ]
  },
  {
   "cell_type": "code",
   "execution_count": 13,
   "id": "0c4a98a5",
   "metadata": {},
   "outputs": [
    {
     "data": {
      "text/plain": [
       "'/Users/Massimo/Documents/workspace/MuStudio/MuNLP'"
      ]
     },
     "execution_count": 13,
     "metadata": {},
     "output_type": "execute_result"
    }
   ],
   "source": [
    "import os\n",
    "os.getcwd()\n"
   ]
  },
  {
   "cell_type": "code",
   "execution_count": 14,
   "id": "b83462f6",
   "metadata": {},
   "outputs": [],
   "source": [
    "workDirectory = '../../../MyBooks/05 racconti/'"
   ]
  },
  {
   "cell_type": "code",
   "execution_count": 15,
   "id": "2033fe60",
   "metadata": {},
   "outputs": [],
   "source": [
    "filePath = \"01dream/infos.txt\"\n"
   ]
  },
  {
   "cell_type": "code",
   "execution_count": 16,
   "id": "a2702b2a",
   "metadata": {},
   "outputs": [],
   "source": [
    "info = MuNLP.fromText(workDirectory+filePath) # read content from text file"
   ]
  },
  {
   "cell_type": "code",
   "execution_count": 17,
   "id": "396da559",
   "metadata": {},
   "outputs": [
    {
     "data": {
      "text/plain": [
       "(12, 12, 1, 107)"
      ]
     },
     "execution_count": 17,
     "metadata": {},
     "output_type": "execute_result"
    }
   ],
   "source": [
    "info.getStats()"
   ]
  },
  {
   "cell_type": "markdown",
   "id": "9d573172",
   "metadata": {},
   "source": [
    "the whole content is stored in 'text' while the cleaned version (no punctuation, no newlines, lowercase) for analysis is in 'cleanText':"
   ]
  },
  {
   "cell_type": "code",
   "execution_count": 18,
   "id": "66e11c6a",
   "metadata": {},
   "outputs": [
    {
     "data": {
      "text/plain": [
       "'Title:          What dreams are made of\\nSerie:          Racconti\\nVolume:         1\\nAuthor:         Massimo\\n'"
      ]
     },
     "execution_count": 18,
     "metadata": {},
     "output_type": "execute_result"
    }
   ],
   "source": [
    "info.text"
   ]
  },
  {
   "cell_type": "code",
   "execution_count": 19,
   "id": "ff6a9a7f",
   "metadata": {},
   "outputs": [
    {
     "data": {
      "text/plain": [
       "'title          what dreams are made of serie          racconti volume         1 author         massimo'"
      ]
     },
     "execution_count": 19,
     "metadata": {},
     "output_type": "execute_result"
    }
   ],
   "source": [
    "info.cleanText"
   ]
  },
  {
   "cell_type": "code",
   "execution_count": 20,
   "id": "132d8e22",
   "metadata": {},
   "outputs": [
    {
     "data": {
      "text/plain": [
       "[('title', 1), ('dreams', 1), ('made', 1)]"
      ]
     },
     "execution_count": 20,
     "metadata": {},
     "output_type": "execute_result"
    }
   ],
   "source": [
    "info.getMostCommonWords(3)"
   ]
  },
  {
   "cell_type": "markdown",
   "id": "95cb3048",
   "metadata": {},
   "source": [
    "# Use an existing PDF document as input"
   ]
  },
  {
   "cell_type": "code",
   "execution_count": 21,
   "id": "e3abad15",
   "metadata": {},
   "outputs": [],
   "source": [
    "file = '05invasion/Daily life in the American indigenous societies before the European conquest.pdf'\n"
   ]
  },
  {
   "cell_type": "markdown",
   "id": "e68465ad",
   "metadata": {},
   "source": [
    "## Instantiate MuNLP object from PDF\n",
    "\n",
    "Use fromPDF decorator to give file name as input; this will create an object of type MuNLP which contains the text extracted from the file."
   ]
  },
  {
   "cell_type": "code",
   "execution_count": 22,
   "id": "7bed9f0a",
   "metadata": {},
   "outputs": [
    {
     "name": "stdout",
     "output_type": "stream",
     "text": [
      "Total read pages:  10\n"
     ]
    }
   ],
   "source": [
    "doc = MuNLP.fromPDF(workDirectory+file) # read content from PDF file"
   ]
  },
  {
   "cell_type": "code",
   "execution_count": 23,
   "id": "52aa4ceb",
   "metadata": {},
   "outputs": [
    {
     "data": {
      "text/plain": [
       "MuNLP.MuNLP"
      ]
     },
     "execution_count": 23,
     "metadata": {},
     "output_type": "execute_result"
    }
   ],
   "source": [
    "type(doc)"
   ]
  },
  {
   "cell_type": "code",
   "execution_count": 24,
   "id": "52440173",
   "metadata": {},
   "outputs": [
    {
     "name": "stdout",
     "output_type": "stream",
     "text": [
      "Total number of characters:  22806\n"
     ]
    }
   ],
   "source": [
    "print(\"Total number of characters: \", doc.getLength())"
   ]
  },
  {
   "cell_type": "code",
   "execution_count": 25,
   "id": "e06c5f2b",
   "metadata": {},
   "outputs": [
    {
     "name": "stdout",
     "output_type": "stream",
     "text": [
      "Total number of words:  3060\n"
     ]
    }
   ],
   "source": [
    "print(\"Total number of words: \", doc.getNumWords()) "
   ]
  },
  {
   "cell_type": "code",
   "execution_count": 26,
   "id": "f0163a0b",
   "metadata": {},
   "outputs": [
    {
     "name": "stdout",
     "output_type": "stream",
     "text": [
      "Total words:  3060\n",
      "Unique words:  1067\n",
      "Approximate total number of sentences:  120\n",
      "Total chars:  22806\n"
     ]
    },
    {
     "data": {
      "text/plain": [
       "(3060, 1067, 120, 22806)"
      ]
     },
     "execution_count": 26,
     "metadata": {},
     "output_type": "execute_result"
    }
   ],
   "source": [
    "doc.getStats(verbose=1)  # both words and chars, verbose prints the total numbers"
   ]
  },
  {
   "cell_type": "code",
   "execution_count": 27,
   "id": "2a643df5",
   "metadata": {},
   "outputs": [
    {
     "data": {
      "text/plain": [
       "'EN'"
      ]
     },
     "execution_count": 27,
     "metadata": {},
     "output_type": "execute_result"
    }
   ],
   "source": [
    "doc.language  # document's language; this is the default"
   ]
  },
  {
   "cell_type": "code",
   "execution_count": 28,
   "id": "8ac41b4f",
   "metadata": {},
   "outputs": [
    {
     "data": {
      "text/plain": [
       "2081"
      ]
     },
     "execution_count": 28,
     "metadata": {},
     "output_type": "execute_result"
    }
   ],
   "source": [
    "len(doc.tokens)"
   ]
  },
  {
   "cell_type": "code",
   "execution_count": 30,
   "id": "0cdf4cf7",
   "metadata": {},
   "outputs": [
    {
     "data": {
      "text/plain": [
       "[('indigenous', 55),\n",
       " ('social', 27),\n",
       " ('european', 26),\n",
       " ('cultural', 26),\n",
       " ('practices', 24),\n",
       " ('societies', 23),\n",
       " ('often', 19),\n",
       " ('trade', 18),\n",
       " ('native', 18),\n",
       " ('american', 16)]"
      ]
     },
     "execution_count": 30,
     "metadata": {},
     "output_type": "execute_result"
    }
   ],
   "source": [
    "doc.getMostCommonWords()"
   ]
  },
  {
   "cell_type": "code",
   "execution_count": 31,
   "id": "99cbac3d",
   "metadata": {},
   "outputs": [
    {
     "data": {
      "text/plain": [
       "120"
      ]
     },
     "execution_count": 31,
     "metadata": {},
     "output_type": "execute_result"
    }
   ],
   "source": [
    "doc.getNumSentences()"
   ]
  },
  {
   "cell_type": "code",
   "execution_count": 32,
   "id": "c4d1cf79",
   "metadata": {},
   "outputs": [
    {
     "name": "stdout",
     "output_type": "stream",
     "text": [
      "Total words:  3060\n",
      "Unique words:  1067\n",
      "Approximate total number of sentences:  120\n",
      "Total chars:  22806\n"
     ]
    },
    {
     "data": {
      "text/plain": [
       "(3060, 1067, 120, 22806)"
      ]
     },
     "execution_count": 32,
     "metadata": {},
     "output_type": "execute_result"
    }
   ],
   "source": [
    "doc.getStats(verbose=1)  # both words and chars, verbose prints the total numbers"
   ]
  },
  {
   "cell_type": "code",
   "execution_count": 33,
   "id": "a6036a11",
   "metadata": {},
   "outputs": [
    {
     "data": {
      "text/plain": [
       "['Please consider checking important information.',\n",
       " \"The generated content does not represent the developer's viewpoint.\",\n",
       " 'summary\\nDaily life in American indigenous societies before the European conquest was char-\\nacterized by a rich diversity of cultures, social structures, and sustainable interactions \\nwith the environment.']"
      ]
     },
     "execution_count": 33,
     "metadata": {},
     "output_type": "execute_result"
    }
   ],
   "source": [
    "doc.sentences[1:4]"
   ]
  },
  {
   "cell_type": "code",
   "execution_count": null,
   "id": "558c2b3f",
   "metadata": {},
   "outputs": [],
   "source": []
  }
 ],
 "metadata": {
  "kernelspec": {
   "display_name": "Python 3 (ipykernel)",
   "language": "python",
   "name": "python3"
  },
  "language_info": {
   "codemirror_mode": {
    "name": "ipython",
    "version": 3
   },
   "file_extension": ".py",
   "mimetype": "text/x-python",
   "name": "python",
   "nbconvert_exporter": "python",
   "pygments_lexer": "ipython3",
   "version": "3.11.0"
  }
 },
 "nbformat": 4,
 "nbformat_minor": 5
}
