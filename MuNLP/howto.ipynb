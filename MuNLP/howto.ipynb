{
 "cells": [
  {
   "cell_type": "markdown",
   "id": "acb02db3",
   "metadata": {},
   "source": [
    "# How to use the MuNLP library\n",
    "\n",
    "This is a basic NLP module for text analysis and generation.  \n",
    "Documentation purpose.  \n",
    "This is a work in progress.\n",
    "\n"
   ]
  },
  {
   "cell_type": "markdown",
   "id": "ff9d173f",
   "metadata": {},
   "source": [
    "automatically reload the modules so changes done in the MuNLP library are usable immediately (not cached):"
   ]
  },
  {
   "cell_type": "code",
   "execution_count": 1,
   "id": "8ffa117b",
   "metadata": {},
   "outputs": [],
   "source": [
    "%load_ext autoreload\n",
    "%autoreload 2\n"
   ]
  },
  {
   "cell_type": "markdown",
   "id": "e2688bf1",
   "metadata": {},
   "source": [
    "First of all, import the library. Add it to sys path if not in the same directory"
   ]
  },
  {
   "cell_type": "code",
   "execution_count": 2,
   "id": "4c4bbfcd",
   "metadata": {},
   "outputs": [],
   "source": [
    "from MuNLP import MuNLP\n"
   ]
  },
  {
   "cell_type": "markdown",
   "id": "0bc2b71a",
   "metadata": {},
   "source": [
    "# Load content from text string"
   ]
  },
  {
   "cell_type": "code",
   "execution_count": 133,
   "id": "6316a85d",
   "metadata": {},
   "outputs": [],
   "source": [
    "sample = \"\"\"Processing raw text intelligently is difficult: most words are rare, \n",
    "and it’s common for words that look completely different to mean almost the same thing. \n",
    "The same words in a different order can mean something completely different. \n",
    "Even splitting text into useful word-like units can be difficult in many languages. \n",
    "While it’s possible to solve some problems starting from only the raw characters, \n",
    "it’s usually better to use linguistic knowledge to add useful information.\"\"\""
   ]
  },
  {
   "cell_type": "code",
   "execution_count": 134,
   "id": "efd26f22",
   "metadata": {},
   "outputs": [
    {
     "data": {
      "text/plain": [
       "479"
      ]
     },
     "execution_count": 134,
     "metadata": {},
     "output_type": "execute_result"
    }
   ],
   "source": [
    "len(sample)  # include newlines"
   ]
  },
  {
   "cell_type": "markdown",
   "id": "d74c8ebb",
   "metadata": {},
   "source": [
    "## Instantiate a MuNLP object\n",
    "Just need to pass the text to the class MuNLP:"
   ]
  },
  {
   "cell_type": "code",
   "execution_count": 135,
   "id": "e4aa81a2",
   "metadata": {},
   "outputs": [],
   "source": [
    "snippet = MuNLP(sample)\n"
   ]
  },
  {
   "cell_type": "code",
   "execution_count": 137,
   "id": "47059bf1",
   "metadata": {},
   "outputs": [
    {
     "name": "stdout",
     "output_type": "stream",
     "text": [
      "Total words:  74\n",
      "Unique words:  54\n",
      "Total chars:  479\n"
     ]
    },
    {
     "data": {
      "text/plain": [
       "(74, 54, 479)"
      ]
     },
     "execution_count": 137,
     "metadata": {},
     "output_type": "execute_result"
    }
   ],
   "source": [
    "snippet.getStats(verbose=1)  # no newlines: less total chars"
   ]
  },
  {
   "cell_type": "code",
   "execution_count": 138,
   "id": "29def34a",
   "metadata": {},
   "outputs": [
    {
     "data": {
      "text/plain": [
       "74"
      ]
     },
     "execution_count": 138,
     "metadata": {},
     "output_type": "execute_result"
    }
   ],
   "source": [
    "snippet.getNumWords()"
   ]
  },
  {
   "cell_type": "code",
   "execution_count": 139,
   "id": "93b6df43",
   "metadata": {},
   "outputs": [
    {
     "data": {
      "text/plain": [
       "479"
      ]
     },
     "execution_count": 139,
     "metadata": {},
     "output_type": "execute_result"
    }
   ],
   "source": [
    "snippet.getLength()"
   ]
  },
  {
   "cell_type": "markdown",
   "id": "8df89f8d",
   "metadata": {},
   "source": [
    "Words are stored in 'tokens':"
   ]
  },
  {
   "cell_type": "code",
   "execution_count": 140,
   "id": "a96ce372",
   "metadata": {},
   "outputs": [
    {
     "data": {
      "text/plain": [
       "74"
      ]
     },
     "execution_count": 140,
     "metadata": {},
     "output_type": "execute_result"
    }
   ],
   "source": [
    "len(snippet.tokens)"
   ]
  },
  {
   "cell_type": "code",
   "execution_count": 141,
   "id": "d5357d2c",
   "metadata": {
    "scrolled": true
   },
   "outputs": [
    {
     "data": {
      "text/plain": [
       "[('to', 4),\n",
       " ('words', 3),\n",
       " ('it’s', 3),\n",
       " ('different', 3),\n",
       " ('the', 3),\n",
       " ('raw', 2),\n",
       " ('text', 2)]"
      ]
     },
     "execution_count": 141,
     "metadata": {},
     "output_type": "execute_result"
    }
   ],
   "source": [
    "snippet.getMostCommonWords(7)  # top 7 used words"
   ]
  },
  {
   "cell_type": "markdown",
   "id": "a689ba57",
   "metadata": {},
   "source": [
    "# Use an existing PDF document as input"
   ]
  },
  {
   "cell_type": "code",
   "execution_count": 3,
   "id": "0c4a98a5",
   "metadata": {},
   "outputs": [
    {
     "data": {
      "text/plain": [
       "'/Users/Massimo/Documents/workspace/MuStudio/MuNLP'"
      ]
     },
     "execution_count": 3,
     "metadata": {},
     "output_type": "execute_result"
    }
   ],
   "source": [
    "import os\n",
    "os.getcwd()\n"
   ]
  },
  {
   "cell_type": "code",
   "execution_count": 4,
   "id": "b83462f6",
   "metadata": {},
   "outputs": [],
   "source": [
    "workDirectory = '../../../MyBooks/05 racconti/'"
   ]
  },
  {
   "cell_type": "code",
   "execution_count": 5,
   "id": "e3abad15",
   "metadata": {},
   "outputs": [],
   "source": [
    "file = '05invasion/Daily life in the American indigenous societies before the European conquest.pdf'\n"
   ]
  },
  {
   "cell_type": "markdown",
   "id": "d5b19281",
   "metadata": {},
   "source": [
    "## Instantiate MuNLP object from PDF\n",
    "\n",
    "Use fromPDF decorator to give file name as input; this will create an object of type MuNLP which contains the text extracted from the file."
   ]
  },
  {
   "cell_type": "code",
   "execution_count": 142,
   "id": "7bed9f0a",
   "metadata": {},
   "outputs": [
    {
     "name": "stdout",
     "output_type": "stream",
     "text": [
      "Total read pages:  10\n"
     ]
    }
   ],
   "source": [
    "doc = MuNLP.fromPDF(workDirectory+file) # read content from PDF file"
   ]
  },
  {
   "cell_type": "code",
   "execution_count": 143,
   "id": "52aa4ceb",
   "metadata": {},
   "outputs": [
    {
     "data": {
      "text/plain": [
       "MuNLP.MuNLP"
      ]
     },
     "execution_count": 143,
     "metadata": {},
     "output_type": "execute_result"
    }
   ],
   "source": [
    "type(doc)"
   ]
  },
  {
   "cell_type": "code",
   "execution_count": 146,
   "id": "52440173",
   "metadata": {},
   "outputs": [
    {
     "name": "stdout",
     "output_type": "stream",
     "text": [
      "Total number of characters:  22806\n"
     ]
    }
   ],
   "source": [
    "print(\"Total number of characters: \", doc.getLength())"
   ]
  },
  {
   "cell_type": "code",
   "execution_count": 147,
   "id": "e06c5f2b",
   "metadata": {},
   "outputs": [
    {
     "name": "stdout",
     "output_type": "stream",
     "text": [
      "Total number of words:  3060\n"
     ]
    }
   ],
   "source": [
    "print(\"Total number of words: \", doc.getNumWords()) "
   ]
  },
  {
   "cell_type": "code",
   "execution_count": 148,
   "id": "aeab76a5",
   "metadata": {},
   "outputs": [
    {
     "name": "stdout",
     "output_type": "stream",
     "text": [
      "Total words:  3060\n",
      "Unique words:  1067\n",
      "Total chars:  22806\n"
     ]
    },
    {
     "data": {
      "text/plain": [
       "(3060, 1067, 22806)"
      ]
     },
     "execution_count": 148,
     "metadata": {},
     "output_type": "execute_result"
    }
   ],
   "source": [
    "doc.getStats(verbose=1)  # both words and chars, verbose prints the total numbers"
   ]
  },
  {
   "cell_type": "code",
   "execution_count": 126,
   "id": "2a643df5",
   "metadata": {},
   "outputs": [
    {
     "data": {
      "text/plain": [
       "'EN'"
      ]
     },
     "execution_count": 126,
     "metadata": {},
     "output_type": "execute_result"
    }
   ],
   "source": [
    "doc.language  # document's language; this is the default"
   ]
  },
  {
   "cell_type": "markdown",
   "id": "fac88827",
   "metadata": {},
   "source": [
    "# Use a text file"
   ]
  },
  {
   "cell_type": "code",
   "execution_count": 67,
   "id": "56077210",
   "metadata": {},
   "outputs": [],
   "source": [
    "filePath = \"01dream/infos.txt\"\n"
   ]
  },
  {
   "cell_type": "code",
   "execution_count": 127,
   "id": "03d4668f",
   "metadata": {},
   "outputs": [],
   "source": [
    "info = MuNLP.fromText(workDirectory+filePath) # read content from PDF file"
   ]
  },
  {
   "cell_type": "code",
   "execution_count": 149,
   "id": "5f148f5d",
   "metadata": {},
   "outputs": [
    {
     "data": {
      "text/plain": [
       "(12, 12, 107)"
      ]
     },
     "execution_count": 149,
     "metadata": {},
     "output_type": "execute_result"
    }
   ],
   "source": [
    "info.getStats()"
   ]
  },
  {
   "cell_type": "markdown",
   "id": "e9512758",
   "metadata": {},
   "source": [
    "the whole content is stored in 'text' while the cleaned version (no punctuation, no newlines, lowercase) for analysis is in 'cleanText':"
   ]
  },
  {
   "cell_type": "code",
   "execution_count": 129,
   "id": "69de704e",
   "metadata": {},
   "outputs": [
    {
     "data": {
      "text/plain": [
       "'Title:          What dreams are made of\\nSerie:          Racconti\\nVolume:         1\\nAuthor:         Massimo\\n'"
      ]
     },
     "execution_count": 129,
     "metadata": {},
     "output_type": "execute_result"
    }
   ],
   "source": [
    "info.text"
   ]
  },
  {
   "cell_type": "code",
   "execution_count": 131,
   "id": "ae31a5d5",
   "metadata": {},
   "outputs": [
    {
     "data": {
      "text/plain": [
       "'title          what dreams are made of serie          racconti volume         1 author         massimo'"
      ]
     },
     "execution_count": 131,
     "metadata": {},
     "output_type": "execute_result"
    }
   ],
   "source": [
    "info.cleanText"
   ]
  },
  {
   "cell_type": "code",
   "execution_count": 132,
   "id": "b48ac127",
   "metadata": {},
   "outputs": [
    {
     "data": {
      "text/plain": [
       "[('title', 1), ('what', 1), ('dreams', 1)]"
      ]
     },
     "execution_count": 132,
     "metadata": {},
     "output_type": "execute_result"
    }
   ],
   "source": [
    "info.getMostCommonWords(3)"
   ]
  },
  {
   "cell_type": "code",
   "execution_count": null,
   "id": "210d3904",
   "metadata": {},
   "outputs": [],
   "source": []
  }
 ],
 "metadata": {
  "kernelspec": {
   "display_name": "Python 3 (ipykernel)",
   "language": "python",
   "name": "python3"
  },
  "language_info": {
   "codemirror_mode": {
    "name": "ipython",
    "version": 3
   },
   "file_extension": ".py",
   "mimetype": "text/x-python",
   "name": "python",
   "nbconvert_exporter": "python",
   "pygments_lexer": "ipython3",
   "version": "3.11.0"
  }
 },
 "nbformat": 4,
 "nbformat_minor": 5
}
