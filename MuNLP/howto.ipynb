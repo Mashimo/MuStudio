{
 "cells": [
  {
   "cell_type": "markdown",
   "id": "fcb0ae77",
   "metadata": {},
   "source": [
    "# How to use the MuNLP library\n",
    "\n",
    "This is a basic NLP module for text analysis and generation.  \n",
    "Documentation purpose.  \n",
    "This is a work in progress.\n",
    "\n"
   ]
  },
  {
   "cell_type": "markdown",
   "id": "cdd79c98",
   "metadata": {},
   "source": [
    "automatically reload the modules so changes done in the MuNLP library are usable immediately (not cached):"
   ]
  },
  {
   "cell_type": "code",
   "execution_count": 1,
   "id": "3cc3101e",
   "metadata": {},
   "outputs": [],
   "source": [
    "%load_ext autoreload\n",
    "%autoreload 2\n"
   ]
  },
  {
   "cell_type": "markdown",
   "id": "21828947",
   "metadata": {},
   "source": [
    "First of all, import the library. Add it to sys path if not in the same directory"
   ]
  },
  {
   "cell_type": "code",
   "execution_count": 2,
   "id": "4c4bbfcd",
   "metadata": {},
   "outputs": [],
   "source": [
    "from MuNLP import MuNLP\n"
   ]
  },
  {
   "cell_type": "markdown",
   "id": "3032755d",
   "metadata": {},
   "source": [
    "# Load content from text string"
   ]
  },
  {
   "cell_type": "code",
   "execution_count": 3,
   "id": "690d0b1e",
   "metadata": {},
   "outputs": [],
   "source": [
    "sample = \"\"\"Processing raw text intelligently is difficult: most words are rare, \n",
    "and it’s common for words that look completely different to mean almost the same thing. \n",
    "The same words in a different order can mean something completely different. \n",
    "Even splitting text into useful word-like units can be difficult in many languages. \n",
    "While it’s possible to solve some problems starting from only the raw characters, \n",
    "it’s usually better to use linguistic knowledge to add useful information.\"\"\""
   ]
  },
  {
   "cell_type": "code",
   "execution_count": 4,
   "id": "63449922",
   "metadata": {},
   "outputs": [
    {
     "data": {
      "text/plain": [
       "479"
      ]
     },
     "execution_count": 4,
     "metadata": {},
     "output_type": "execute_result"
    }
   ],
   "source": [
    "len(sample)  # include newlines"
   ]
  },
  {
   "cell_type": "markdown",
   "id": "634671da",
   "metadata": {},
   "source": [
    "## Instantiate a MuNLP object\n",
    "Just need to pass the text to the class MuNLP:"
   ]
  },
  {
   "cell_type": "code",
   "execution_count": 5,
   "id": "5a6d6375",
   "metadata": {},
   "outputs": [],
   "source": [
    "snippet = MuNLP(sample)\n"
   ]
  },
  {
   "cell_type": "code",
   "execution_count": 6,
   "id": "005135f1",
   "metadata": {},
   "outputs": [
    {
     "name": "stdout",
     "output_type": "stream",
     "text": [
      "Total words:  74\n",
      "Unique words:  54\n",
      "Approximate total number of sentences:  4\n",
      "Total chars:  479\n"
     ]
    },
    {
     "data": {
      "text/plain": [
       "(74, 54, 4, 479)"
      ]
     },
     "execution_count": 6,
     "metadata": {},
     "output_type": "execute_result"
    }
   ],
   "source": [
    "snippet.getStats(verbose=1)  # no newlines: less total chars"
   ]
  },
  {
   "cell_type": "code",
   "execution_count": 7,
   "id": "f58c8b8f",
   "metadata": {},
   "outputs": [
    {
     "data": {
      "text/plain": [
       "74"
      ]
     },
     "execution_count": 7,
     "metadata": {},
     "output_type": "execute_result"
    }
   ],
   "source": [
    "snippet.getNumWords()"
   ]
  },
  {
   "cell_type": "code",
   "execution_count": 8,
   "id": "1677223e",
   "metadata": {},
   "outputs": [
    {
     "data": {
      "text/plain": [
       "479"
      ]
     },
     "execution_count": 8,
     "metadata": {},
     "output_type": "execute_result"
    }
   ],
   "source": [
    "snippet.getLength()"
   ]
  },
  {
   "cell_type": "markdown",
   "id": "bca0f1a9",
   "metadata": {},
   "source": [
    "Words are stored in 'tokens':"
   ]
  },
  {
   "cell_type": "code",
   "execution_count": 9,
   "id": "d90dff15",
   "metadata": {},
   "outputs": [
    {
     "data": {
      "text/plain": [
       "48"
      ]
     },
     "execution_count": 9,
     "metadata": {},
     "output_type": "execute_result"
    }
   ],
   "source": [
    "len(snippet.tokens)"
   ]
  },
  {
   "cell_type": "code",
   "execution_count": 10,
   "id": "33215e72",
   "metadata": {
    "scrolled": true
   },
   "outputs": [
    {
     "data": {
      "text/plain": [
       "[('words', 3),\n",
       " ('it’s', 3),\n",
       " ('different', 3),\n",
       " ('raw', 2),\n",
       " ('text', 2),\n",
       " ('difficult', 2),\n",
       " ('completely', 2)]"
      ]
     },
     "execution_count": 10,
     "metadata": {},
     "output_type": "execute_result"
    }
   ],
   "source": [
    "snippet.getMostCommonWords(7)  # top 7 used words"
   ]
  },
  {
   "cell_type": "code",
   "execution_count": 120,
   "id": "25b476ac",
   "metadata": {},
   "outputs": [
    {
     "data": {
      "text/plain": [
       "[(('completely', 'different'), 2)]"
      ]
     },
     "execution_count": 120,
     "metadata": {},
     "output_type": "execute_result"
    }
   ],
   "source": [
    "snippet.getTopBigrams()"
   ]
  },
  {
   "cell_type": "code",
   "execution_count": 34,
   "id": "040c20ba",
   "metadata": {},
   "outputs": [
    {
     "data": {
      "text/plain": [
       "4"
      ]
     },
     "execution_count": 34,
     "metadata": {},
     "output_type": "execute_result"
    }
   ],
   "source": [
    "snippet.getNumSentences()"
   ]
  },
  {
   "cell_type": "code",
   "execution_count": 35,
   "id": "56638d85",
   "metadata": {},
   "outputs": [
    {
     "data": {
      "text/plain": [
       "['Processing raw text intelligently is difficult: most words are rare, \\nand it’s common for words that look completely different to mean almost the same thing.',\n",
       " 'The same words in a different order can mean something completely different.',\n",
       " 'Even splitting text into useful word-like units can be difficult in many languages.',\n",
       " 'While it’s possible to solve some problems starting from only the raw characters, \\nit’s usually better to use linguistic knowledge to add useful information.']"
      ]
     },
     "execution_count": 35,
     "metadata": {},
     "output_type": "execute_result"
    }
   ],
   "source": [
    "snippet.sentences"
   ]
  },
  {
   "cell_type": "markdown",
   "id": "d013f662",
   "metadata": {},
   "source": [
    "# Use a text file"
   ]
  },
  {
   "cell_type": "code",
   "execution_count": 13,
   "id": "0c4a98a5",
   "metadata": {},
   "outputs": [
    {
     "data": {
      "text/plain": [
       "'/Users/Massimo/Documents/workspace/MuStudio/MuNLP'"
      ]
     },
     "execution_count": 13,
     "metadata": {},
     "output_type": "execute_result"
    }
   ],
   "source": [
    "import os\n",
    "os.getcwd()\n"
   ]
  },
  {
   "cell_type": "code",
   "execution_count": 14,
   "id": "b83462f6",
   "metadata": {},
   "outputs": [],
   "source": [
    "workDirectory = '../../../MyBooks/05 racconti/'"
   ]
  },
  {
   "cell_type": "code",
   "execution_count": 15,
   "id": "afe40533",
   "metadata": {},
   "outputs": [],
   "source": [
    "filePath = \"01dream/infos.txt\"\n"
   ]
  },
  {
   "cell_type": "code",
   "execution_count": 16,
   "id": "e77c4f8c",
   "metadata": {},
   "outputs": [],
   "source": [
    "info = MuNLP.fromText(workDirectory+filePath) # read content from text file"
   ]
  },
  {
   "cell_type": "code",
   "execution_count": 17,
   "id": "3cb17b58",
   "metadata": {},
   "outputs": [
    {
     "data": {
      "text/plain": [
       "(12, 12, 1, 107)"
      ]
     },
     "execution_count": 17,
     "metadata": {},
     "output_type": "execute_result"
    }
   ],
   "source": [
    "info.getStats()"
   ]
  },
  {
   "cell_type": "markdown",
   "id": "8f9b7404",
   "metadata": {},
   "source": [
    "the whole content is stored in 'text' while the cleaned version (no punctuation, no newlines, lowercase) for analysis is in 'cleanText':"
   ]
  },
  {
   "cell_type": "code",
   "execution_count": 18,
   "id": "f5a85970",
   "metadata": {},
   "outputs": [
    {
     "data": {
      "text/plain": [
       "'Title:          What dreams are made of\\nSerie:          Racconti\\nVolume:         1\\nAuthor:         Massimo\\n'"
      ]
     },
     "execution_count": 18,
     "metadata": {},
     "output_type": "execute_result"
    }
   ],
   "source": [
    "info.text"
   ]
  },
  {
   "cell_type": "code",
   "execution_count": 19,
   "id": "d6f61bf4",
   "metadata": {},
   "outputs": [
    {
     "data": {
      "text/plain": [
       "'title          what dreams are made of serie          racconti volume         1 author         massimo'"
      ]
     },
     "execution_count": 19,
     "metadata": {},
     "output_type": "execute_result"
    }
   ],
   "source": [
    "info.cleanText"
   ]
  },
  {
   "cell_type": "code",
   "execution_count": 122,
   "id": "d8dd0c74",
   "metadata": {},
   "outputs": [
    {
     "data": {
      "text/plain": [
       "[]"
      ]
     },
     "execution_count": 122,
     "metadata": {},
     "output_type": "execute_result"
    }
   ],
   "source": [
    "info.getMostCommonWords(3)"
   ]
  },
  {
   "cell_type": "code",
   "execution_count": 123,
   "id": "91be2f00",
   "metadata": {},
   "outputs": [
    {
     "data": {
      "text/plain": [
       "[]"
      ]
     },
     "execution_count": 123,
     "metadata": {},
     "output_type": "execute_result"
    }
   ],
   "source": [
    "info.getTopBigrams()"
   ]
  },
  {
   "cell_type": "markdown",
   "id": "77ea89d3",
   "metadata": {},
   "source": [
    "# Use an existing PDF document as input"
   ]
  },
  {
   "cell_type": "code",
   "execution_count": 21,
   "id": "e3abad15",
   "metadata": {},
   "outputs": [],
   "source": [
    "file = '05invasion/Daily life in the American indigenous societies before the European conquest.pdf'\n"
   ]
  },
  {
   "cell_type": "markdown",
   "id": "a66edbb2",
   "metadata": {},
   "source": [
    "## Instantiate MuNLP object from PDF\n",
    "\n",
    "Use fromPDF decorator to give file name as input; this will create an object of type MuNLP which contains the text extracted from the file."
   ]
  },
  {
   "cell_type": "code",
   "execution_count": 22,
   "id": "7bed9f0a",
   "metadata": {},
   "outputs": [
    {
     "name": "stdout",
     "output_type": "stream",
     "text": [
      "Total read pages:  10\n"
     ]
    }
   ],
   "source": [
    "doc = MuNLP.fromPDF(workDirectory+file) # read content from PDF file"
   ]
  },
  {
   "cell_type": "code",
   "execution_count": 23,
   "id": "52aa4ceb",
   "metadata": {},
   "outputs": [
    {
     "data": {
      "text/plain": [
       "MuNLP.MuNLP"
      ]
     },
     "execution_count": 23,
     "metadata": {},
     "output_type": "execute_result"
    }
   ],
   "source": [
    "type(doc)"
   ]
  },
  {
   "cell_type": "code",
   "execution_count": 24,
   "id": "52440173",
   "metadata": {},
   "outputs": [
    {
     "name": "stdout",
     "output_type": "stream",
     "text": [
      "Total number of characters:  22806\n"
     ]
    }
   ],
   "source": [
    "print(\"Total number of characters: \", doc.getLength())"
   ]
  },
  {
   "cell_type": "code",
   "execution_count": 25,
   "id": "e06c5f2b",
   "metadata": {},
   "outputs": [
    {
     "name": "stdout",
     "output_type": "stream",
     "text": [
      "Total number of words:  3060\n"
     ]
    }
   ],
   "source": [
    "print(\"Total number of words: \", doc.getNumWords()) "
   ]
  },
  {
   "cell_type": "code",
   "execution_count": 26,
   "id": "f50e2a62",
   "metadata": {},
   "outputs": [
    {
     "name": "stdout",
     "output_type": "stream",
     "text": [
      "Total words:  3060\n",
      "Unique words:  1067\n",
      "Approximate total number of sentences:  120\n",
      "Total chars:  22806\n"
     ]
    },
    {
     "data": {
      "text/plain": [
       "(3060, 1067, 120, 22806)"
      ]
     },
     "execution_count": 26,
     "metadata": {},
     "output_type": "execute_result"
    }
   ],
   "source": [
    "doc.getStats(verbose=1)  # both words and chars, verbose prints the total numbers"
   ]
  },
  {
   "cell_type": "code",
   "execution_count": 27,
   "id": "2a643df5",
   "metadata": {},
   "outputs": [
    {
     "data": {
      "text/plain": [
       "'EN'"
      ]
     },
     "execution_count": 27,
     "metadata": {},
     "output_type": "execute_result"
    }
   ],
   "source": [
    "doc.language  # document's language; this is the default"
   ]
  },
  {
   "cell_type": "code",
   "execution_count": 28,
   "id": "f60da5d3",
   "metadata": {},
   "outputs": [
    {
     "data": {
      "text/plain": [
       "2081"
      ]
     },
     "execution_count": 28,
     "metadata": {},
     "output_type": "execute_result"
    }
   ],
   "source": [
    "len(doc.tokens)"
   ]
  },
  {
   "cell_type": "code",
   "execution_count": 30,
   "id": "6e983ce2",
   "metadata": {},
   "outputs": [
    {
     "data": {
      "text/plain": [
       "[('indigenous', 55),\n",
       " ('social', 27),\n",
       " ('european', 26),\n",
       " ('cultural', 26),\n",
       " ('practices', 24),\n",
       " ('societies', 23),\n",
       " ('often', 19),\n",
       " ('trade', 18),\n",
       " ('native', 18),\n",
       " ('american', 16)]"
      ]
     },
     "execution_count": 30,
     "metadata": {},
     "output_type": "execute_result"
    }
   ],
   "source": [
    "doc.getMostCommonWords()"
   ]
  },
  {
   "cell_type": "code",
   "execution_count": 124,
   "id": "2532528b",
   "metadata": {},
   "outputs": [
    {
     "data": {
      "text/plain": [
       "[(('indigenous', 'societies'), 13),\n",
       " (('european', 'contact'), 12),\n",
       " (('indigenous', 'peoples'), 11),\n",
       " (('native', 'american'), 11),\n",
       " (('social', 'structures'), 7)]"
      ]
     },
     "execution_count": 124,
     "metadata": {},
     "output_type": "execute_result"
    }
   ],
   "source": [
    "doc.getTopBigrams(5)"
   ]
  },
  {
   "cell_type": "code",
   "execution_count": 31,
   "id": "c6c3f320",
   "metadata": {},
   "outputs": [
    {
     "data": {
      "text/plain": [
       "120"
      ]
     },
     "execution_count": 31,
     "metadata": {},
     "output_type": "execute_result"
    }
   ],
   "source": [
    "doc.getNumSentences()"
   ]
  },
  {
   "cell_type": "code",
   "execution_count": 32,
   "id": "4f611480",
   "metadata": {},
   "outputs": [
    {
     "name": "stdout",
     "output_type": "stream",
     "text": [
      "Total words:  3060\n",
      "Unique words:  1067\n",
      "Approximate total number of sentences:  120\n",
      "Total chars:  22806\n"
     ]
    },
    {
     "data": {
      "text/plain": [
       "(3060, 1067, 120, 22806)"
      ]
     },
     "execution_count": 32,
     "metadata": {},
     "output_type": "execute_result"
    }
   ],
   "source": [
    "doc.getStats(verbose=1)  # both words and chars, verbose prints the total numbers"
   ]
  },
  {
   "cell_type": "code",
   "execution_count": 33,
   "id": "7118188e",
   "metadata": {},
   "outputs": [
    {
     "data": {
      "text/plain": [
       "['Please consider checking important information.',\n",
       " \"The generated content does not represent the developer's viewpoint.\",\n",
       " 'summary\\nDaily life in American indigenous societies before the European conquest was char-\\nacterized by a rich diversity of cultures, social structures, and sustainable interactions \\nwith the environment.']"
      ]
     },
     "execution_count": 33,
     "metadata": {},
     "output_type": "execute_result"
    }
   ],
   "source": [
    "doc.sentences[1:4]"
   ]
  }
 ],
 "metadata": {
  "kernelspec": {
   "display_name": "Python 3 (ipykernel)",
   "language": "python",
   "name": "python3"
  },
  "language_info": {
   "codemirror_mode": {
    "name": "ipython",
    "version": 3
   },
   "file_extension": ".py",
   "mimetype": "text/x-python",
   "name": "python",
   "nbconvert_exporter": "python",
   "pygments_lexer": "ipython3",
   "version": "3.11.0"
  }
 },
 "nbformat": 4,
 "nbformat_minor": 5
}
