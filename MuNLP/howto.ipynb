{
 "cells": [
  {
   "cell_type": "markdown",
   "id": "3ff77974",
   "metadata": {},
   "source": [
    "# How to use the MuNLP library\n",
    "\n",
    "This is a basic NLP module for text analysis and generation.  \n",
    "Documentation purpose.  \n",
    "This is a work in progress.\n",
    "\n",
    "First of all, import the library. Add it to sys path if not in the same directory"
   ]
  },
  {
   "cell_type": "code",
   "execution_count": 1,
   "id": "4c4bbfcd",
   "metadata": {},
   "outputs": [],
   "source": [
    "from MuNLP import MuNLP\n"
   ]
  },
  {
   "cell_type": "markdown",
   "id": "6b1cda2b",
   "metadata": {},
   "source": [
    "Use an existing PDf document as input"
   ]
  },
  {
   "cell_type": "code",
   "execution_count": 2,
   "id": "0c4a98a5",
   "metadata": {},
   "outputs": [
    {
     "data": {
      "text/plain": [
       "'/Users/Massimo/Documents/workspace/MuStudio/MuNLP'"
      ]
     },
     "execution_count": 2,
     "metadata": {},
     "output_type": "execute_result"
    }
   ],
   "source": [
    "import os\n",
    "os.getcwd()\n"
   ]
  },
  {
   "cell_type": "code",
   "execution_count": 3,
   "id": "b83462f6",
   "metadata": {},
   "outputs": [],
   "source": [
    "workDirectory = '../../../MyBooks/05 racconti/'"
   ]
  },
  {
   "cell_type": "code",
   "execution_count": 4,
   "id": "e3abad15",
   "metadata": {},
   "outputs": [],
   "source": [
    "file = '05invasion/Daily life in the American indigenous societies before the European conquest.pdf'\n"
   ]
  },
  {
   "cell_type": "markdown",
   "id": "26c60118",
   "metadata": {},
   "source": [
    "## Instantiate MuNLP object\n",
    "\n",
    "Use fromPDF decorator to give file name as input; this will create an object of type MuNLP which contains the text extracted from the file."
   ]
  },
  {
   "cell_type": "code",
   "execution_count": 5,
   "id": "7bed9f0a",
   "metadata": {},
   "outputs": [
    {
     "name": "stdout",
     "output_type": "stream",
     "text": [
      "Total read pages:  10\n"
     ]
    }
   ],
   "source": [
    "doc = MuNLP.fromPDF(workDirectory+file) # read content from PDF file"
   ]
  },
  {
   "cell_type": "code",
   "execution_count": 6,
   "id": "52aa4ceb",
   "metadata": {},
   "outputs": [
    {
     "data": {
      "text/plain": [
       "MuNLP.MuNLP"
      ]
     },
     "execution_count": 6,
     "metadata": {},
     "output_type": "execute_result"
    }
   ],
   "source": [
    "type(doc)"
   ]
  },
  {
   "cell_type": "code",
   "execution_count": 8,
   "id": "52440173",
   "metadata": {},
   "outputs": [
    {
     "name": "stdout",
     "output_type": "stream",
     "text": [
      "Total number of characters:  22475\n"
     ]
    }
   ],
   "source": [
    "print(\"Total number of characters: \", doc.getLength())"
   ]
  },
  {
   "cell_type": "code",
   "execution_count": 9,
   "id": "e06c5f2b",
   "metadata": {},
   "outputs": [
    {
     "name": "stdout",
     "output_type": "stream",
     "text": [
      "Total number of words:  2949\n"
     ]
    }
   ],
   "source": [
    "print(\"Total number of words: \", doc.getNumWords()) "
   ]
  },
  {
   "cell_type": "code",
   "execution_count": 10,
   "id": "ec066bf4",
   "metadata": {},
   "outputs": [
    {
     "name": "stdout",
     "output_type": "stream",
     "text": [
      "Total words:  2949\n",
      "Total chars:  22475\n"
     ]
    },
    {
     "data": {
      "text/plain": [
       "(2949, 22475)"
      ]
     },
     "execution_count": 10,
     "metadata": {},
     "output_type": "execute_result"
    }
   ],
   "source": [
    "doc.getStats(verbose=1)  # both words and chars, verbose prints the total numbers"
   ]
  },
  {
   "cell_type": "code",
   "execution_count": 11,
   "id": "2a643df5",
   "metadata": {},
   "outputs": [
    {
     "data": {
      "text/plain": [
       "'EN'"
      ]
     },
     "execution_count": 11,
     "metadata": {},
     "output_type": "execute_result"
    }
   ],
   "source": [
    "doc.language  # document's language; this is the default"
   ]
  }
 ],
 "metadata": {
  "kernelspec": {
   "display_name": "Python 3 (ipykernel)",
   "language": "python",
   "name": "python3"
  },
  "language_info": {
   "codemirror_mode": {
    "name": "ipython",
    "version": 3
   },
   "file_extension": ".py",
   "mimetype": "text/x-python",
   "name": "python",
   "nbconvert_exporter": "python",
   "pygments_lexer": "ipython3",
   "version": "3.11.0"
  }
 },
 "nbformat": 4,
 "nbformat_minor": 5
}
